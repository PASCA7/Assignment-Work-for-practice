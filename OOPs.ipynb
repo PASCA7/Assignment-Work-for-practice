{
 "cells": [
  {
   "cell_type": "code",
   "execution_count": 1,
   "metadata": {},
   "outputs": [],
   "source": [
    "class parrot:\n",
    "    pass\n",
    "    "
   ]
  },
  {
   "cell_type": "code",
   "execution_count": 2,
   "metadata": {},
   "outputs": [],
   "source": [
    "obj = parrot()"
   ]
  },
  {
   "cell_type": "code",
   "execution_count": 3,
   "metadata": {},
   "outputs": [
    {
     "data": {
      "text/plain": [
       "<__main__.parrot at 0x1fb168279c8>"
      ]
     },
     "execution_count": 3,
     "metadata": {},
     "output_type": "execute_result"
    }
   ],
   "source": [
    "obj"
   ]
  },
  {
   "cell_type": "code",
   "execution_count": 138,
   "metadata": {},
   "outputs": [],
   "source": [
    "class parrot:\n",
    "    species = \"big_parrort\"   #class instance\n",
    "    \n",
    "    def  __init__(self,country, age, place ):\n",
    "        \n",
    "        #attributes\n",
    "        self.country = country\n",
    "        self.age = age\n",
    "        self.place = place\n",
    "        "
   ]
  },
  {
   "cell_type": "code",
   "execution_count": 139,
   "metadata": {},
   "outputs": [],
   "source": [
    "green = parrot('Indian parrot', 2,'Maharastra')\n",
    "crocktail = parrot('South africa', 3,'Brazil')"
   ]
  },
  {
   "cell_type": "markdown",
   "metadata": {},
   "source": [
    "Access the Class attribute"
   ]
  },
  {
   "cell_type": "code",
   "execution_count": 140,
   "metadata": {},
   "outputs": [
    {
     "data": {
      "text/plain": [
       "'big_parrort'"
      ]
     },
     "execution_count": 140,
     "metadata": {},
     "output_type": "execute_result"
    }
   ],
   "source": [
    "green.__class__.species"
   ]
  },
  {
   "cell_type": "code",
   "execution_count": 141,
   "metadata": {},
   "outputs": [
    {
     "data": {
      "text/plain": [
       "'big_parrort'"
      ]
     },
     "execution_count": 141,
     "metadata": {},
     "output_type": "execute_result"
    }
   ],
   "source": [
    "crocktail.__class__.species"
   ]
  },
  {
   "cell_type": "markdown",
   "metadata": {},
   "source": [
    "To access instance attribute"
   ]
  },
  {
   "cell_type": "code",
   "execution_count": 142,
   "metadata": {},
   "outputs": [
    {
     "data": {
      "text/plain": [
       "'Indian parrot'"
      ]
     },
     "execution_count": 142,
     "metadata": {},
     "output_type": "execute_result"
    }
   ],
   "source": [
    "green.country"
   ]
  },
  {
   "cell_type": "code",
   "execution_count": 143,
   "metadata": {},
   "outputs": [
    {
     "data": {
      "text/plain": [
       "2"
      ]
     },
     "execution_count": 143,
     "metadata": {},
     "output_type": "execute_result"
    }
   ],
   "source": [
    "green.age"
   ]
  },
  {
   "cell_type": "code",
   "execution_count": 144,
   "metadata": {},
   "outputs": [
    {
     "data": {
      "text/plain": [
       "'South africa'"
      ]
     },
     "execution_count": 144,
     "metadata": {},
     "output_type": "execute_result"
    }
   ],
   "source": [
    "crocktail.country"
   ]
  },
  {
   "cell_type": "code",
   "execution_count": 145,
   "metadata": {},
   "outputs": [
    {
     "data": {
      "text/plain": [
       "3"
      ]
     },
     "execution_count": 145,
     "metadata": {},
     "output_type": "execute_result"
    }
   ],
   "source": [
    "crocktail.age"
   ]
  },
  {
   "cell_type": "code",
   "execution_count": 146,
   "metadata": {},
   "outputs": [
    {
     "name": "stdout",
     "output_type": "stream",
     "text": [
      "Indian parrot is found in Maharastra and bird age is 2 year\n"
     ]
    }
   ],
   "source": [
    "print(\"{} is found in {} and bird age is {} year\".format(green.country, green.place, green.age))"
   ]
  },
  {
   "cell_type": "markdown",
   "metadata": {},
   "source": [
    "Methods Section , access the instance Methods"
   ]
  },
  {
   "cell_type": "code",
   "execution_count": 147,
   "metadata": {},
   "outputs": [],
   "source": [
    "class Bird:\n",
    "    \n",
    "    #Class Attributes\n",
    "    \n",
    "    species = 'Parrot'\n",
    "    \n",
    "    # instance Attributes\n",
    "    def __init__(self, name , age , place):\n",
    "        self.name = name \n",
    "        self.age = age\n",
    "        self.place = place\n",
    "        \n",
    "     #instance method   \n",
    "    def sing(self,songs):\n",
    "        return '{} is singing {} '.format(self.name, songs)\n",
    "    \n",
    "    def dance(self):\n",
    "        return '{} is dancing'.format(self.name)"
   ]
  },
  {
   "cell_type": "code",
   "execution_count": 148,
   "metadata": {},
   "outputs": [],
   "source": [
    "# define instance of class attributes\n",
    "\n",
    "blue = Bird('parrot', 3 , 'Maharastra') \n",
    "green = Bird('crocktail',4,'Haryana')"
   ]
  },
  {
   "cell_type": "code",
   "execution_count": 149,
   "metadata": {},
   "outputs": [
    {
     "data": {
      "text/plain": [
       "'parrot is singing silancely '"
      ]
     },
     "execution_count": 149,
     "metadata": {},
     "output_type": "execute_result"
    }
   ],
   "source": [
    "# call the instance methods\n",
    "\n",
    "blue.sing('silancely')\n"
   ]
  },
  {
   "cell_type": "code",
   "execution_count": 150,
   "metadata": {},
   "outputs": [
    {
     "data": {
      "text/plain": [
       "'parrot is dancing'"
      ]
     },
     "execution_count": 150,
     "metadata": {},
     "output_type": "execute_result"
    }
   ],
   "source": [
    "blue.dance()"
   ]
  },
  {
   "cell_type": "code",
   "execution_count": 151,
   "metadata": {},
   "outputs": [
    {
     "data": {
      "text/plain": [
       "'crocktail is singing dengoursely '"
      ]
     },
     "execution_count": 151,
     "metadata": {},
     "output_type": "execute_result"
    }
   ],
   "source": [
    "green.sing('dengoursely')"
   ]
  },
  {
   "cell_type": "markdown",
   "metadata": {},
   "source": [
    "# Inheritance "
   ]
  },
  {
   "cell_type": "markdown",
   "metadata": {},
   "source": [
    "--inheritance is a way of creating a new class for using details of an existing class without modifying it."
   ]
  },
  {
   "cell_type": "code",
   "execution_count": 157,
   "metadata": {},
   "outputs": [],
   "source": [
    "class Birds:\n",
    "    \n",
    "    def __init__(self):\n",
    "        print(\"Birds are ready\")\n",
    "    \n",
    "    def whoisthis(self):\n",
    "        print('Birds')\n",
    "        \n",
    "    def swim(self):\n",
    "        print('swim fast')\n",
    "        \n",
    "    \n",
    "class parrot(Birds):\n",
    "    def __init__(self):\n",
    "        super().__init__()\n",
    "        print(\"parrot is ready\")\n",
    "    \n",
    "    def whoisthis(self):\n",
    "        super().whoisthis()\n",
    "        print('parrot')\n",
    "        \n",
    "    def run(self):\n",
    "        print('run fast')\n",
    "        \n",
    "        \n",
    "# we use the super() function inside the __init__() method. \n",
    "# This allows us to run the __init__() method of the parent class inside the child class."
   ]
  },
  {
   "cell_type": "code",
   "execution_count": 158,
   "metadata": {},
   "outputs": [
    {
     "name": "stdout",
     "output_type": "stream",
     "text": [
      "Birds are ready\n",
      "parrot is ready\n"
     ]
    }
   ],
   "source": [
    "parot = parrot()\n"
   ]
  },
  {
   "cell_type": "code",
   "execution_count": 159,
   "metadata": {},
   "outputs": [
    {
     "name": "stdout",
     "output_type": "stream",
     "text": [
      "Birds\n",
      "parrot\n"
     ]
    }
   ],
   "source": [
    "parot.whoisthis()"
   ]
  },
  {
   "cell_type": "code",
   "execution_count": 160,
   "metadata": {},
   "outputs": [
    {
     "name": "stdout",
     "output_type": "stream",
     "text": [
      "swim fast\n"
     ]
    }
   ],
   "source": [
    "parot.swim()"
   ]
  },
  {
   "cell_type": "code",
   "execution_count": 161,
   "metadata": {},
   "outputs": [
    {
     "name": "stdout",
     "output_type": "stream",
     "text": [
      "run fast\n"
     ]
    }
   ],
   "source": [
    "parot.run()"
   ]
  },
  {
   "cell_type": "markdown",
   "metadata": {},
   "source": [
    "# Encapsulation"
   ]
  },
  {
   "cell_type": "markdown",
   "metadata": {},
   "source": [
    "we can restrict access to methods and variables. This prevents data from direct modification which is called encapsulation. In Python, we denote private attributes using underscore as the prefix i.e single _ or double __."
   ]
  },
  {
   "cell_type": "code",
   "execution_count": 182,
   "metadata": {},
   "outputs": [],
   "source": [
    "class maneesh:\n",
    "    \n",
    "    def __init__(self):\n",
    "        self.__salary = 1000000\n",
    "        self.__pf = 5000\n",
    "        \n",
    "    def actual(self):\n",
    "        print('actual salary {} and PF is {}'.format(self.__salary, self.__pf))\n",
    "        \n",
    "    def change_salary(self,salari):\n",
    "        self.__salary = salari\n",
    "        \n",
    "    def change_pf(self,)"
   ]
  },
  {
   "cell_type": "code",
   "execution_count": 183,
   "metadata": {},
   "outputs": [],
   "source": [
    "man = maneesh()"
   ]
  },
  {
   "cell_type": "code",
   "execution_count": 184,
   "metadata": {},
   "outputs": [
    {
     "name": "stdout",
     "output_type": "stream",
     "text": [
      "actual salary 1000000 and PF is 5000\n"
     ]
    }
   ],
   "source": [
    "man.actual()"
   ]
  },
  {
   "cell_type": "code",
   "execution_count": 185,
   "metadata": {},
   "outputs": [
    {
     "name": "stdout",
     "output_type": "stream",
     "text": [
      "actual salary 1000000 and PF is 5000\n"
     ]
    }
   ],
   "source": [
    "# Try change the salary\n",
    "man.__salary = 2000000\n",
    "man.actual()"
   ]
  },
  {
   "cell_type": "code",
   "execution_count": 186,
   "metadata": {},
   "outputs": [
    {
     "name": "stdout",
     "output_type": "stream",
     "text": [
      "actual salary 2000000 and PF is 5000\n"
     ]
    }
   ],
   "source": [
    "#the salary is change using setter function \n",
    "man.change_salary(2000000)\n",
    "man.actual()"
   ]
  },
  {
   "cell_type": "markdown",
   "metadata": {},
   "source": [
    "# Polymorphism"
   ]
  },
  {
   "cell_type": "markdown",
   "metadata": {},
   "source": [
    "### polymorphism using Function"
   ]
  },
  {
   "cell_type": "code",
   "execution_count": 187,
   "metadata": {},
   "outputs": [],
   "source": [
    "def add(x,y,z = 0):\n",
    "    return x+y+z"
   ]
  },
  {
   "cell_type": "code",
   "execution_count": 188,
   "metadata": {},
   "outputs": [
    {
     "data": {
      "text/plain": [
       "4"
      ]
     },
     "execution_count": 188,
     "metadata": {},
     "output_type": "execute_result"
    }
   ],
   "source": [
    "add(1,3)"
   ]
  },
  {
   "cell_type": "code",
   "execution_count": 189,
   "metadata": {},
   "outputs": [
    {
     "data": {
      "text/plain": [
       "6"
      ]
     },
     "execution_count": 189,
     "metadata": {},
     "output_type": "execute_result"
    }
   ],
   "source": [
    "add(1,2,3)"
   ]
  },
  {
   "cell_type": "code",
   "execution_count": 190,
   "metadata": {},
   "outputs": [
    {
     "data": {
      "text/plain": [
       "'qwertyuiop'"
      ]
     },
     "execution_count": 190,
     "metadata": {},
     "output_type": "execute_result"
    }
   ],
   "source": [
    "add('qwert','yui','op')"
   ]
  },
  {
   "cell_type": "markdown",
   "metadata": {},
   "source": [
    "### polymorphism using class\n",
    "\n",
    "polymorphism means same function name (but different signatures) being uses for different types\n"
   ]
  },
  {
   "cell_type": "code",
   "execution_count": 194,
   "metadata": {},
   "outputs": [],
   "source": [
    "class Birds:\n",
    "    \n",
    "    def fly(self):\n",
    "        print('most of the bird can fly')\n",
    "        \n",
    "    def swim(self):\n",
    "        print('some  of the bird can swim')\n",
    "        \n",
    "class parrot:\n",
    "    def fly(self):\n",
    "        print('parrot can fly')\n",
    "        \n",
    "    def swim(self):\n",
    "        print('parrot can not swim')\n",
    "        \n",
    "        "
   ]
  },
  {
   "cell_type": "code",
   "execution_count": 195,
   "metadata": {},
   "outputs": [],
   "source": [
    "bird = Birds()\n",
    "parrt = parrot()"
   ]
  },
  {
   "cell_type": "code",
   "execution_count": 196,
   "metadata": {},
   "outputs": [
    {
     "name": "stdout",
     "output_type": "stream",
     "text": [
      "most of the bird can fly\n",
      "some  of the bird can swim\n",
      "parrot can fly\n",
      "parrot can not swim\n"
     ]
    }
   ],
   "source": [
    "for creatures in (bird,parrt):\n",
    "    creatures.fly()\n",
    "    creatures.swim()"
   ]
  },
  {
   "cell_type": "code",
   "execution_count": 200,
   "metadata": {},
   "outputs": [],
   "source": [
    "def adds(self,x,y):\n",
    "    return x+y"
   ]
  },
  {
   "cell_type": "code",
   "execution_count": 204,
   "metadata": {},
   "outputs": [
    {
     "data": {
      "text/plain": [
       "8"
      ]
     },
     "execution_count": 204,
     "metadata": {},
     "output_type": "execute_result"
    }
   ],
   "source": [
    "adds(2,3,5)"
   ]
  },
  {
   "cell_type": "markdown",
   "metadata": {},
   "source": [
    "### polymorphism using inheritance class and function object\n",
    "\n",
    "This process of re-implementing a method in the child class is known as Method Overriding."
   ]
  },
  {
   "cell_type": "code",
   "execution_count": 227,
   "metadata": {},
   "outputs": [],
   "source": [
    "class Birds:\n",
    "    \n",
    "    def fly(self):\n",
    "        print('most of the bird can fly')\n",
    "        \n",
    "    def swim(self):\n",
    "        print('some  of the bird can swim')\n",
    "        \n",
    "    def colour(self):\n",
    "        print('green bird')   \n",
    "        \n",
    "class parrot(Birds):\n",
    "    \n",
    "    def fly(self):\n",
    "        print('parrot can fly')\n",
    "        \n",
    "    def swim(self):\n",
    "        print('parrot can not swim')\n",
    "        \n",
    "    def  house(self):\n",
    "        print('house is tree')\n",
    "        \n",
    "        "
   ]
  },
  {
   "cell_type": "code",
   "execution_count": 235,
   "metadata": {},
   "outputs": [],
   "source": [
    "def main(obj):\n",
    "    obj.fly()\n",
    "    obj.swim()\n",
    "    obj.colour()\n",
    "    #obj.house()"
   ]
  },
  {
   "cell_type": "code",
   "execution_count": 236,
   "metadata": {},
   "outputs": [],
   "source": [
    "bird = Birds()\n",
    "parrt = parrot()"
   ]
  },
  {
   "cell_type": "code",
   "execution_count": 237,
   "metadata": {},
   "outputs": [
    {
     "name": "stdout",
     "output_type": "stream",
     "text": [
      "most of the bird can fly\n",
      "some  of the bird can swim\n",
      "green bird\n"
     ]
    }
   ],
   "source": [
    "main(bird)"
   ]
  },
  {
   "cell_type": "code",
   "execution_count": 238,
   "metadata": {},
   "outputs": [
    {
     "name": "stdout",
     "output_type": "stream",
     "text": [
      "parrot can fly\n",
      "parrot can not swim\n",
      "green bird\n"
     ]
    }
   ],
   "source": [
    "main(parrt)"
   ]
  },
  {
   "cell_type": "code",
   "execution_count": null,
   "metadata": {},
   "outputs": [],
   "source": []
  }
 ],
 "metadata": {
  "kernelspec": {
   "display_name": "Python 3",
   "language": "python",
   "name": "python3"
  },
  "language_info": {
   "codemirror_mode": {
    "name": "ipython",
    "version": 3
   },
   "file_extension": ".py",
   "mimetype": "text/x-python",
   "name": "python",
   "nbconvert_exporter": "python",
   "pygments_lexer": "ipython3",
   "version": "3.7.4"
  }
 },
 "nbformat": 4,
 "nbformat_minor": 2
}
